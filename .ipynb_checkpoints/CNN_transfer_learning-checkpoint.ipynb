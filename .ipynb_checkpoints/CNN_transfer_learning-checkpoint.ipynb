{
 "cells": [
  {
   "cell_type": "code",
   "execution_count": 3,
   "metadata": {},
   "outputs": [],
   "source": [
    "from PIL import Image\n",
    "import numpy as np\n",
    "import pandas as pd\n",
    "import tensorflow as tf\n",
    "from tensorflow.keras.models import Sequential\n",
    "from tensorflow.keras.utils import to_categorical\n",
    "from tensorflow.keras.layers import Conv2D, MaxPool2D, Flatten, Dense"
   ]
  },
  {
   "cell_type": "code",
   "execution_count": 4,
   "metadata": {},
   "outputs": [
    {
     "name": "stdout",
     "output_type": "stream",
     "text": [
      "mkdir: cannot create directory ‘model’: File exists\n",
      "mkdir: cannot create directory ‘submit’: File exists\n"
     ]
    }
   ],
   "source": [
    "! mkdir model submit "
   ]
  },
  {
   "cell_type": "markdown",
   "metadata": {},
   "source": [
    "# Load Data"
   ]
  },
  {
   "cell_type": "code",
   "execution_count": null,
   "metadata": {},
   "outputs": [],
   "source": [
    "%%bash\n",
    "unzip aia-st2-cnn-identifying-dogs"
   ]
  },
  {
   "cell_type": "code",
   "execution_count": 5,
   "metadata": {},
   "outputs": [
    {
     "name": "stdout",
     "output_type": "stream",
     "text": [
      "(366, 224, 224, 3)\n"
     ]
    },
    {
     "data": {
      "text/plain": [
       "['F84EC206D2', '33B309EBDA', 'AF7A9D7162', 'FD3F2A55ED', '8332970998']"
      ]
     },
     "execution_count": 5,
     "metadata": {},
     "output_type": "execute_result"
    }
   ],
   "source": [
    "from os import listdir\n",
    "from os.path import isfile, isdir, join\n",
    "\n",
    "def get_imgs_data(mypath, return_file_names=False):\n",
    "    files = listdir(mypath) # 取得所有檔案與子目錄名稱\n",
    "    imgs_arr = []\n",
    "    file_names = []\n",
    "    for f in files:\n",
    "        if (not f[0]=='.') and (f[-4:]=='.png'):\n",
    "            img = Image.open(mypath+f)\n",
    "            img = img.resize((224, 224), Image.ANTIALIAS)\n",
    "            imgs_arr.append(np.array(img))\n",
    "            file_names.append(f[:-4])\n",
    "            \n",
    "    op_array =  np.clip(np.array(imgs_arr) / 127.5-1, -1, 1)\n",
    "    if return_file_names:\n",
    "        return op_array , file_names\n",
    "    return op_array \n",
    "\n",
    "X_test, ids_test = get_imgs_data(\"./testing_set/testing_set/\", return_file_names=True); print(X_test.shape)\n",
    "ids_test[:5]"
   ]
  },
  {
   "cell_type": "code",
   "execution_count": 6,
   "metadata": {},
   "outputs": [
    {
     "data": {
      "text/plain": [
       "{'whippet': 0,\n",
       " 'Walker_hound': 1,\n",
       " 'fox_terrier': 2,\n",
       " 'basset': 3,\n",
       " 'beagle': 4,\n",
       " 'papillon': 5,\n",
       " 'Norfolk_terrier': 6}"
      ]
     },
     "execution_count": 6,
     "metadata": {},
     "output_type": "execute_result"
    }
   ],
   "source": [
    "classmap = pd.read_csv('classmap.csv', index_col=0, header=None).to_dict()[1]\n",
    "classmap"
   ]
  },
  {
   "cell_type": "code",
   "execution_count": 7,
   "metadata": {},
   "outputs": [
    {
     "name": "stdout",
     "output_type": "stream",
     "text": [
      "class [0]:  (131, 224, 224, 3)\n",
      "class [1]:  (108, 224, 224, 3)\n",
      "class [2]:  (110, 224, 224, 3)\n",
      "class [3]:  (123, 224, 224, 3)\n",
      "class [4]:  (137, 224, 224, 3)\n",
      "class [5]:  (138, 224, 224, 3)\n",
      "class [6]:  (121, 224, 224, 3)\n",
      "X_train:  (868, 224, 224, 3)\n",
      "y_train:  (868,)\n"
     ]
    }
   ],
   "source": [
    "X_train_list = [] \n",
    "y_train_list = []\n",
    "for k in classmap.keys():\n",
    "    c_i =  classmap[k]\n",
    "    X_train_ = get_imgs_data(f\"./training_set/training_set/{k}/\"); print(f\"class [{c_i}]: \", X_train_.shape)\n",
    "    X_train_list.append(X_train_)\n",
    "    y_train_list.append(np.zeros(X_train_.shape[0])+c_i)\n",
    "X_train = np.concatenate(X_train_list, 0); print(f\"X_train: \", X_train.shape)\n",
    "y_train = np.concatenate(y_train_list, 0); print(f\"y_train: \", y_train.shape)\n",
    "del X_train_list; del y_train_list"
   ]
  },
  {
   "cell_type": "code",
   "execution_count": 8,
   "metadata": {},
   "outputs": [
    {
     "name": "stdout",
     "output_type": "stream",
     "text": [
      "y_train_categ:  (868, 7)\n"
     ]
    }
   ],
   "source": [
    "y_train_categ = to_categorical(y_train); print(f\"y_train_categ: \", y_train_categ.shape)"
   ]
  },
  {
   "cell_type": "markdown",
   "metadata": {},
   "source": [
    "# Data Augmentation"
   ]
  },
  {
   "cell_type": "code",
   "execution_count": 9,
   "metadata": {},
   "outputs": [],
   "source": [
    "from tensorflow.keras.preprocessing.image import ImageDataGenerator\n",
    "datagen = ImageDataGenerator(\n",
    "    featurewise_center=True,\n",
    "    featurewise_std_normalization=True,\n",
    "    rotation_range=20,\n",
    "    width_shift_range=0.2,\n",
    "    height_shift_range=0.2,\n",
    "    horizontal_flip=True)\n",
    "\n",
    "datagen.fit(X_train)"
   ]
  },
  {
   "cell_type": "markdown",
   "metadata": {},
   "source": [
    "# Build Model"
   ]
  },
  {
   "cell_type": "code",
   "execution_count": 28,
   "metadata": {},
   "outputs": [],
   "source": [
    "from tensorflow.keras.models import Sequential, Model\n",
    "from tensorflow.keras.layers import Dense, Conv2D, BatchNormalization, MaxPool2D, GlobalAveragePooling2D\n",
    "from tensorflow.keras.optimizers import RMSprop, Adam, SGD\n",
    "from tensorflow.keras import backend as K\n",
    "from tensorflow.keras.applications import VGG16, MobileNet, InceptionV3\n",
    "from tensorflow.keras.layers import Input"
   ]
  },
  {
   "cell_type": "code",
   "execution_count": 2,
   "metadata": {},
   "outputs": [
    {
     "name": "stdout",
     "output_type": "stream",
     "text": [
      "Downloading data from https://github.com/fchollet/deep-learning-models/releases/download/v0.5/inception_v3_weights_tf_dim_ordering_tf_kernels_notop.h5\n",
      "87916544/87910968 [==============================] - 8s 0us/step\n"
     ]
    }
   ],
   "source": [
    "# this could also be the output a different Keras model or layer\n",
    "input_tensor = Input(shape=(224, 224, 3))  # this assumes K.image_data_format() == 'channels_last'\n",
    "base_model = InceptionV3(input_tensor=input_tensor, weights='imagenet', include_top=False)"
   ]
  },
  {
   "cell_type": "code",
   "execution_count": 12,
   "metadata": {},
   "outputs": [],
   "source": [
    "x = base_model.output\n",
    "x = GlobalAveragePooling2D()(x)\n",
    "x = Dense(1024, activation='relu')(x)\n",
    "predictions = Dense(7, activation='softmax')(x)\n",
    "\n",
    "model = Model(inputs=base_model.input, outputs=predictions)"
   ]
  },
  {
   "cell_type": "markdown",
   "metadata": {},
   "source": [
    "# Train"
   ]
  },
  {
   "cell_type": "code",
   "execution_count": 13,
   "metadata": {},
   "outputs": [],
   "source": [
    "# first: train only the top layers (which were randomly initialized)\n",
    "# i.e. freeze all convolutional InceptionV3 layers\n",
    "for layer in base_model.layers:\n",
    "    layer.trainable = False"
   ]
  },
  {
   "cell_type": "code",
   "execution_count": 14,
   "metadata": {},
   "outputs": [],
   "source": [
    "opt = RMSprop(lr=3e-4)\n",
    "model.compile(optimizer=opt,\n",
    "              loss='categorical_crossentropy',\n",
    "              metrics=['accuracy']\n",
    "             )"
   ]
  },
  {
   "cell_type": "code",
   "execution_count": 16,
   "metadata": {},
   "outputs": [
    {
     "name": "stdout",
     "output_type": "stream",
     "text": [
      "Epoch 1/1\n",
      "28/27 [==============================] - 7s 266ms/step - loss: 0.8991 - acc: 0.6609\n"
     ]
    },
    {
     "data": {
      "text/plain": [
       "<tensorflow.python.keras.callbacks.History at 0x7fe900a3eb38>"
      ]
     },
     "execution_count": 16,
     "metadata": {},
     "output_type": "execute_result"
    }
   ],
   "source": [
    "epochs = 5\n",
    "model.fit_generator(datagen.flow(X_train, y_train_categ, batch_size=32),\n",
    "                    steps_per_epoch=len(X_train) / 32, \n",
    "                    epochs=epochs)"
   ]
  },
  {
   "cell_type": "code",
   "execution_count": 24,
   "metadata": {},
   "outputs": [],
   "source": [
    "# we chose to train the top 2 inception blocks, i.e. we will freeze\n",
    "# the first 249 layers and unfreeze the rest:\n",
    "for layer in model.layers[:249]:\n",
    "    layer.trainable = False\n",
    "for layer in model.layers[249:]:\n",
    "    layer.trainable = True"
   ]
  },
  {
   "cell_type": "code",
   "execution_count": 31,
   "metadata": {},
   "outputs": [],
   "source": [
    "# we need to recompile the model for these modifications to take effect\n",
    "# we use SGD with a low learning rate\n",
    "model.compile(optimizer=SGD(lr=0.0001, momentum=0.9), \n",
    "              loss='categorical_crossentropy',\n",
    "              metrics=['accuracy']\n",
    "             )"
   ]
  },
  {
   "cell_type": "code",
   "execution_count": 33,
   "metadata": {},
   "outputs": [
    {
     "name": "stdout",
     "output_type": "stream",
     "text": [
      "Epoch 1/10\n",
      "28/27 [==============================] - 7s 267ms/step - loss: 0.3545 - acc: 0.8774\n",
      "Epoch 2/10\n",
      "28/27 [==============================] - 7s 267ms/step - loss: 0.3397 - acc: 0.8860\n",
      "Epoch 3/10\n",
      "28/27 [==============================] - 7s 264ms/step - loss: 0.3406 - acc: 0.8916\n",
      "Epoch 4/10\n",
      "28/27 [==============================] - 7s 266ms/step - loss: 0.3423 - acc: 0.8872\n",
      "Epoch 5/10\n",
      "28/27 [==============================] - 7s 266ms/step - loss: 0.3418 - acc: 0.8807\n",
      "Epoch 6/10\n",
      "28/27 [==============================] - 8s 272ms/step - loss: 0.3505 - acc: 0.8709\n",
      "Epoch 7/10\n",
      "28/27 [==============================] - 8s 270ms/step - loss: 0.3014 - acc: 0.8953\n",
      "Epoch 8/10\n",
      "28/27 [==============================] - 7s 268ms/step - loss: 0.3615 - acc: 0.8866\n",
      "Epoch 9/10\n",
      "28/27 [==============================] - 7s 263ms/step - loss: 0.3026 - acc: 0.8964\n",
      "Epoch 10/10\n",
      "28/27 [==============================] - 7s 267ms/step - loss: 0.3435 - acc: 0.8785\n"
     ]
    },
    {
     "data": {
      "text/plain": [
       "<tensorflow.python.keras.callbacks.History at 0x7fe8e0e9b3c8>"
      ]
     },
     "execution_count": 33,
     "metadata": {},
     "output_type": "execute_result"
    }
   ],
   "source": [
    "# we train our model again (this time fine-tuning the top 2 inception blocks\n",
    "# alongside the top Dense layers\n",
    "epochs = 10\n",
    "model.fit_generator(datagen.flow(X_train, y_train_categ, batch_size=32),\n",
    "                    steps_per_epoch=len(X_train) / 32, \n",
    "                    epochs=epochs)"
   ]
  },
  {
   "cell_type": "code",
   "execution_count": 34,
   "metadata": {},
   "outputs": [],
   "source": [
    "model_name = \"CNN_InceptionV3\"\n",
    "postfix = \"12\""
   ]
  },
  {
   "cell_type": "code",
   "execution_count": 35,
   "metadata": {},
   "outputs": [
    {
     "name": "stdout",
     "output_type": "stream",
     "text": [
      "save scv: submit/CNN_InceptionV3_submission_12_20190927214736.csv\n",
      "save model: model/CNN_InceptionV3_model_12_20190927214736.h5\n"
     ]
    }
   ],
   "source": [
    "# save out\n",
    "from datetime import datetime\n",
    "y_pred_categ = model.predict(X_test)\n",
    "y_pred = np.argmax(y_pred_categ, 1)\n",
    "df_op = pd.DataFrame({'id':ids_test, 'class': y_pred})\n",
    "t_str = datetime.strftime(datetime.now(), \"%Y%m%d%H%M%S\")\n",
    "pth = f'submit/{model_name}_submission_{postfix}_{t_str}.csv'\n",
    "df_op.to_csv(pth, index=False) # real test score: 0.93\n",
    "print(f'save scv: {pth}') \n",
    "# save out\n",
    "pth = f'model/{model_name}_model_{postfix}_{t_str}.h5'\n",
    "model.save_weights(pth)\n",
    "print(f'save model: {pth}')"
   ]
  }
 ],
 "metadata": {
  "kernelspec": {
   "display_name": "Python 3",
   "language": "python",
   "name": "python3"
  },
  "language_info": {
   "codemirror_mode": {
    "name": "ipython",
    "version": 3
   },
   "file_extension": ".py",
   "mimetype": "text/x-python",
   "name": "python",
   "nbconvert_exporter": "python",
   "pygments_lexer": "ipython3",
   "version": "3.6.6"
  }
 },
 "nbformat": 4,
 "nbformat_minor": 2
}
